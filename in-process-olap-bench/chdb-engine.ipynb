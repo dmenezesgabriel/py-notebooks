{
 "cells": [
  {
   "cell_type": "code",
   "execution_count": 3,
   "metadata": {},
   "outputs": [],
   "source": [
    "import chdb\n",
    "import duckdb"
   ]
  },
  {
   "cell_type": "code",
   "execution_count": 4,
   "metadata": {},
   "outputs": [
    {
     "data": {
      "text/plain": [
       "┌─_file───────────────────────────────┬─_path─────────────────────────────────────────────────────────────────────┐\n",
       "│ amazon_reviews_2000s.snappy.parquet │ datasets-documentation/amazon_reviews/amazon_reviews_2000s.snappy.parquet │\n",
       "└─────────────────────────────────────┴───────────────────────────────────────────────────────────────────────────┘\n",
       "┌─_file───────────────────────────────┬─_path─────────────────────────────────────────────────────────────────────┐\n",
       "│ amazon_reviews_1990s.snappy.parquet │ datasets-documentation/amazon_reviews/amazon_reviews_1990s.snappy.parquet │\n",
       "└─────────────────────────────────────┴───────────────────────────────────────────────────────────────────────────┘\n",
       "┌─_file──────────────────────────────┬─_path────────────────────────────────────────────────────────────────────┐\n",
       "│ amazon_reviews_2010.snappy.parquet │ datasets-documentation/amazon_reviews/amazon_reviews_2010.snappy.parquet │\n",
       "└────────────────────────────────────┴──────────────────────────────────────────────────────────────────────────┘\n",
       "┌─_file──────────────────────────────┬─_path────────────────────────────────────────────────────────────────────┐\n",
       "│ amazon_reviews_2012.snappy.parquet │ datasets-documentation/amazon_reviews/amazon_reviews_2012.snappy.parquet │\n",
       "└────────────────────────────────────┴──────────────────────────────────────────────────────────────────────────┘\n",
       "┌─_file──────────────────────────────┬─_path────────────────────────────────────────────────────────────────────┐\n",
       "│ amazon_reviews_2011.snappy.parquet │ datasets-documentation/amazon_reviews/amazon_reviews_2011.snappy.parquet │\n",
       "└────────────────────────────────────┴──────────────────────────────────────────────────────────────────────────┘\n",
       "┌─_file──────────────────────────────┬─_path────────────────────────────────────────────────────────────────────┐\n",
       "│ amazon_reviews_2013.snappy.parquet │ datasets-documentation/amazon_reviews/amazon_reviews_2013.snappy.parquet │\n",
       "└────────────────────────────────────┴──────────────────────────────────────────────────────────────────────────┘\n",
       "┌─_file──────────────────────────────┬─_path────────────────────────────────────────────────────────────────────┐\n",
       "│ amazon_reviews_2014.snappy.parquet │ datasets-documentation/amazon_reviews/amazon_reviews_2014.snappy.parquet │\n",
       "└────────────────────────────────────┴──────────────────────────────────────────────────────────────────────────┘\n",
       "┌─_file──────────────────────────────┬─_path────────────────────────────────────────────────────────────────────┐\n",
       "│ amazon_reviews_2015.snappy.parquet │ datasets-documentation/amazon_reviews/amazon_reviews_2015.snappy.parquet │\n",
       "└────────────────────────────────────┴──────────────────────────────────────────────────────────────────────────┘"
      ]
     },
     "execution_count": 4,
     "metadata": {},
     "output_type": "execute_result"
    }
   ],
   "source": [
    "chdb.query(\n",
    "    \"\"\"\n",
    "SELECT\n",
    "    _file,\n",
    "    _path\n",
    "FROM s3('s3://datasets-documentation/amazon_reviews/*.parquet', One)\n",
    "SETTINGS output_format_pretty_row_numbers=0\n",
    "\"\"\",\n",
    "    \"PrettyCompact\",\n",
    ")"
   ]
  },
  {
   "cell_type": "code",
   "execution_count": 5,
   "metadata": {},
   "outputs": [
    {
     "data": {
      "text/plain": [
       "┌─_file───────────────────────────────┬────count─┬─readableCount───┐\n",
       "│ amazon_reviews_2013.snappy.parquet  │ 28034255 │ 28.03 million   │\n",
       "│ amazon_reviews_1990s.snappy.parquet │   639532 │ 639.53 thousand │\n",
       "│ amazon_reviews_2011.snappy.parquet  │  6112495 │ 6.11 million    │\n",
       "│ amazon_reviews_2015.snappy.parquet  │ 41905631 │ 41.91 million   │\n",
       "│ amazon_reviews_2012.snappy.parquet  │ 11541011 │ 11.54 million   │\n",
       "│ amazon_reviews_2000s.snappy.parquet │ 14728295 │ 14.73 million   │\n",
       "│ amazon_reviews_2014.snappy.parquet  │ 44127569 │ 44.13 million   │\n",
       "│ amazon_reviews_2010.snappy.parquet  │  3868472 │ 3.87 million    │\n",
       "└─────────────────────────────────────┴──────────┴─────────────────┘"
      ]
     },
     "execution_count": 5,
     "metadata": {},
     "output_type": "execute_result"
    }
   ],
   "source": [
    "chdb.query(\n",
    "    \"\"\"\n",
    "SELECT\n",
    "    _file,\n",
    "    count() AS count,\n",
    "    formatReadableQuantity(count) AS readableCount\n",
    "FROM s3('https://datasets-documentation.s3.eu-west-3.amazonaws.com/amazon_reviews/*.parquet')\n",
    "GROUP BY ALL\n",
    "SETTINGS output_format_pretty_row_numbers=0\n",
    "\"\"\",\n",
    "    \"PrettyCompact\",\n",
    ")"
   ]
  },
  {
   "cell_type": "code",
   "execution_count": 6,
   "metadata": {},
   "outputs": [
    {
     "data": {
      "text/plain": [
       "    ┌─name──────────────┬─type─────────────┐\n",
       " 1. │ review_date       │ Nullable(UInt16) │\n",
       " 2. │ marketplace       │ Nullable(String) │\n",
       " 3. │ customer_id       │ Nullable(UInt64) │\n",
       " 4. │ review_id         │ Nullable(String) │\n",
       " 5. │ product_id        │ Nullable(String) │\n",
       " 6. │ product_parent    │ Nullable(UInt64) │\n",
       " 7. │ product_title     │ Nullable(String) │\n",
       " 8. │ product_category  │ Nullable(String) │\n",
       " 9. │ star_rating       │ Nullable(UInt8)  │\n",
       "10. │ helpful_votes     │ Nullable(UInt32) │\n",
       "11. │ total_votes       │ Nullable(UInt32) │\n",
       "12. │ vine              │ Nullable(Bool)   │\n",
       "13. │ verified_purchase │ Nullable(Bool)   │\n",
       "14. │ review_headline   │ Nullable(String) │\n",
       "15. │ review_body       │ Nullable(String) │\n",
       "    └───────────────────┴──────────────────┘"
      ]
     },
     "execution_count": 6,
     "metadata": {},
     "output_type": "execute_result"
    }
   ],
   "source": [
    "chdb.query(\n",
    "    \"\"\"\n",
    "DESCRIBE s3('s3://datasets-documentation/amazon_reviews/*.parquet')\n",
    "SETTINGS describe_compact_output=1\n",
    "\"\"\",\n",
    "    \"PrettyCompact\",\n",
    ")"
   ]
  },
  {
   "cell_type": "code",
   "execution_count": 7,
   "metadata": {},
   "outputs": [
    {
     "data": {
      "text/plain": [
       "    ┌─product_category─┬──reviews─┬──avg─┐\n",
       " 1. │ Toys             │  4864056 │ 4.21 │\n",
       " 2. │ Apparel          │  5906085 │ 4.11 │\n",
       " 3. │ Luggage          │   348644 │ 4.22 │\n",
       " 4. │ Kitchen          │  4880297 │ 4.21 │\n",
       " 5. │ Books            │ 19530930 │ 4.34 │\n",
       " 6. │ Outdoors         │  2302327 │ 4.24 │\n",
       " 7. │ Video            │   380596 │ 4.19 │\n",
       " 8. │ Grocery          │  2402365 │ 4.31 │\n",
       " 9. │ Shoes            │  4366757 │ 4.24 │\n",
       "10. │ Jewelry          │  1767667 │ 4.14 │\n",
       "    └──────────────────┴──────────┴──────┘"
      ]
     },
     "execution_count": 7,
     "metadata": {},
     "output_type": "execute_result"
    }
   ],
   "source": [
    "chdb.query(\n",
    "    \"\"\"\n",
    "SELECT product_category, count() AS reviews, round(avg(star_rating), 2) as avg\n",
    "FROM s3('s3://datasets-documentation/amazon_reviews/*.parquet')\n",
    "GROUP BY ALL\n",
    "LIMIT 10\n",
    "\"\"\",\n",
    "    \"PrettyCompact\",\n",
    ")"
   ]
  },
  {
   "cell_type": "code",
   "execution_count": 8,
   "metadata": {},
   "outputs": [
    {
     "data": {
      "text/plain": [
       "┌──────────────────┬─────────┬────────┐\n",
       "│ product_category │ reviews │  avg   │\n",
       "│       blob       │  int64  │ double │\n",
       "├──────────────────┼─────────┼────────┤\n",
       "│ PC               │ 6908245 │   4.09 │\n",
       "│ Tools            │ 1741025 │   4.26 │\n",
       "│ Lawn and Garden  │ 2557184 │   4.09 │\n",
       "│ Home Improvement │ 2634690 │   4.18 │\n",
       "│ Furniture        │  792089 │   4.08 │\n",
       "│ Camera           │ 1801924 │   4.13 │\n",
       "│ Luggage          │  348644 │   4.22 │\n",
       "│ Major Appliances │   96897 │   3.72 │\n",
       "│ Digital_Software │  102082 │   3.54 │\n",
       "│ Mobile_Apps      │ 5033164 │   3.98 │\n",
       "├──────────────────┴─────────┴────────┤\n",
       "│ 10 rows                   3 columns │\n",
       "└─────────────────────────────────────┘"
      ]
     },
     "execution_count": 8,
     "metadata": {},
     "output_type": "execute_result"
    }
   ],
   "source": [
    "duckdb.sql(\n",
    "    \"\"\"\n",
    "SELECT product_category, count() AS reviews, round(avg(star_rating), 2) as avg\n",
    "FROM 's3://datasets-documentation/amazon_reviews/*.parquet'\n",
    "GROUP BY ALL\n",
    "LIMIT 10\n",
    "\"\"\"\n",
    ")"
   ]
  }
 ],
 "metadata": {
  "kernelspec": {
   "display_name": ".venv",
   "language": "python",
   "name": "python3"
  },
  "language_info": {
   "codemirror_mode": {
    "name": "ipython",
    "version": 3
   },
   "file_extension": ".py",
   "mimetype": "text/x-python",
   "name": "python",
   "nbconvert_exporter": "python",
   "pygments_lexer": "ipython3",
   "version": "3.12.5"
  }
 },
 "nbformat": 4,
 "nbformat_minor": 2
}
